{
  "cells": [
    {
      "cell_type": "markdown",
      "metadata": {
        "id": "view-in-github",
        "colab_type": "text"
      },
      "source": [
        "<a href=\"https://colab.research.google.com/github/G-Vangala/Python-exercise/blob/main/Data_Types_in_Python.ipynb\" target=\"_parent\"><img src=\"https://colab.research.google.com/assets/colab-badge.svg\" alt=\"Open In Colab\"/></a>"
      ]
    },
    {
      "cell_type": "markdown",
      "id": "a9afa19d",
      "metadata": {
        "id": "a9afa19d"
      },
      "source": [
        "# Converting int to String,Float,Boolean and Complex "
      ]
    },
    {
      "cell_type": "code",
      "source": [
        ""
      ],
      "metadata": {
        "id": "ZXXBZFoPtG7Y"
      },
      "id": "ZXXBZFoPtG7Y",
      "execution_count": null,
      "outputs": []
    },
    {
      "cell_type": "code",
      "execution_count": null,
      "id": "281fff9f",
      "metadata": {
        "id": "281fff9f",
        "outputId": "4135538a-6479-4388-ee48-1a3cd4d00a41"
      },
      "outputs": [
        {
          "name": "stdout",
          "output_type": "stream",
          "text": [
            "10\n",
            "<class 'int'>\n",
            "10\n",
            "<class 'str'>\n",
            "10.0\n",
            "<class 'float'>\n",
            "True\n",
            "<class 'bool'>\n",
            "(10+0j)\n",
            "<class 'complex'>\n"
          ]
        }
      ],
      "source": [
        "a=10\n",
        "print(a)\n",
        "#Before conversion\n",
        "print(type(a))\n",
        "b=str(a)\n",
        "print(b)\n",
        "#After conversion\n",
        "print(type(b))\n",
        "c=float(a)\n",
        "print(c)\n",
        "print(type(c))\n",
        "#Boolean: true or false. If a has a value-true,if a does not have a value-false.\n",
        "d=bool(a)\n",
        "print(d)\n",
        "print(type(d))\n",
        "e=complex(a)\n",
        "print(e)\n",
        "print(type(e))"
      ]
    },
    {
      "cell_type": "markdown",
      "id": "6a4bd6db",
      "metadata": {
        "id": "6a4bd6db"
      },
      "source": [
        "# Converting string to int,float,boolean and complex"
      ]
    },
    {
      "cell_type": "code",
      "execution_count": null,
      "id": "7ab112b9",
      "metadata": {
        "id": "7ab112b9",
        "outputId": "24b09779-26dd-4708-eca8-201f94e89d38"
      },
      "outputs": [
        {
          "ename": "ValueError",
          "evalue": "could not convert string to float: 'a'",
          "output_type": "error",
          "traceback": [
            "\u001b[1;31m---------------------------------------------------------------------------\u001b[0m",
            "\u001b[1;31mValueError\u001b[0m                                Traceback (most recent call last)",
            "\u001b[1;32m~\\AppData\\Local\\Temp/ipykernel_3860/2086751969.py\u001b[0m in \u001b[0;36m<module>\u001b[1;34m\u001b[0m\n\u001b[0;32m      1\u001b[0m \u001b[0ma\u001b[0m\u001b[1;33m=\u001b[0m\u001b[1;34m\"a\"\u001b[0m\u001b[1;33m\u001b[0m\u001b[1;33m\u001b[0m\u001b[0m\n\u001b[0;32m      2\u001b[0m \u001b[1;31m#Alphabets cannot be converted to integers. Give digits instead of alphabets.\u001b[0m\u001b[1;33m\u001b[0m\u001b[1;33m\u001b[0m\u001b[0m\n\u001b[1;32m----> 3\u001b[1;33m \u001b[0me\u001b[0m\u001b[1;33m=\u001b[0m\u001b[0mfloat\u001b[0m\u001b[1;33m(\u001b[0m\u001b[0ma\u001b[0m\u001b[1;33m)\u001b[0m\u001b[1;33m\u001b[0m\u001b[1;33m\u001b[0m\u001b[0m\n\u001b[0m\u001b[0;32m      4\u001b[0m \u001b[0mprint\u001b[0m\u001b[1;33m(\u001b[0m\u001b[0me\u001b[0m\u001b[1;33m)\u001b[0m\u001b[1;33m\u001b[0m\u001b[1;33m\u001b[0m\u001b[0m\n\u001b[0;32m      5\u001b[0m \u001b[0mprint\u001b[0m\u001b[1;33m(\u001b[0m\u001b[0mtype\u001b[0m\u001b[1;33m(\u001b[0m\u001b[0me\u001b[0m\u001b[1;33m)\u001b[0m\u001b[1;33m)\u001b[0m\u001b[1;33m\u001b[0m\u001b[1;33m\u001b[0m\u001b[0m\n",
            "\u001b[1;31mValueError\u001b[0m: could not convert string to float: 'a'"
          ]
        }
      ],
      "source": [
        "a=\"a\"\n",
        "#Alphabets cannot be converted to integers. Give digits instead of alphabets.\n",
        "e=float(a)\n",
        "print(e)\n",
        "print(type(e))\n",
        "f=bool(a)\n",
        "print(f)\n",
        "print(type(f))"
      ]
    },
    {
      "cell_type": "markdown",
      "id": "0b55061e",
      "metadata": {
        "id": "0b55061e"
      },
      "source": [
        "# Converting float to int,string,boolean and complex"
      ]
    },
    {
      "cell_type": "code",
      "execution_count": null,
      "id": "a2f00d0c",
      "metadata": {
        "id": "a2f00d0c",
        "outputId": "746dd924-ed6c-424f-c5dc-f8c17a96b2c8"
      },
      "outputs": [
        {
          "name": "stdout",
          "output_type": "stream",
          "text": [
            "10.0\n",
            "<class 'float'>\n",
            "10.0\n",
            "<class 'str'>\n",
            "10.0\n",
            "<class 'float'>\n",
            "True\n",
            "<class 'bool'>\n",
            "(10+0j)\n",
            "<class 'complex'>\n"
          ]
        }
      ],
      "source": [
        "a=10.0\n",
        "print(a)\n",
        "print(type(a))\n",
        "b=str(a)\n",
        "print(b)\n",
        "print(type(b))\n",
        "c=float(a)\n",
        "print(c)\n",
        "print(type(c))\n",
        "d=bool(a)\n",
        "print(d)\n",
        "print(type(d))\n",
        "e=complex(a)\n",
        "print(e)\n",
        "print(type(e))"
      ]
    },
    {
      "cell_type": "markdown",
      "id": "1d5ffded",
      "metadata": {
        "id": "1d5ffded"
      },
      "source": [
        "# Converting complex to int,float,string and boolean"
      ]
    },
    {
      "cell_type": "code",
      "execution_count": null,
      "id": "d5777004",
      "metadata": {
        "id": "d5777004",
        "outputId": "c4fa6a6d-b74f-46c0-bfdd-774416d8b780"
      },
      "outputs": [
        {
          "name": "stdout",
          "output_type": "stream",
          "text": [
            "(10+3j)\n",
            "<class 'complex'>\n",
            "(10+3j)\n",
            "<class 'str'>\n",
            "True\n",
            "<class 'bool'>\n",
            "(10+3j)\n",
            "<class 'complex'>\n"
          ]
        }
      ],
      "source": [
        "a=10+3j\n",
        "print(a)\n",
        "print(type(a))\n",
        "b=str(a)\n",
        "print(b)\n",
        "print(type(b))\n",
        "#Can't convert complex to float.\n",
        "d=bool(a)\n",
        "print(d)\n",
        "print(type(d))\n",
        "e=complex(a)\n",
        "print(e)\n",
        "print(type(e))"
      ]
    },
    {
      "cell_type": "code",
      "execution_count": null,
      "id": "5b2503e2",
      "metadata": {
        "id": "5b2503e2"
      },
      "outputs": [],
      "source": [
        ""
      ]
    }
  ],
  "metadata": {
    "kernelspec": {
      "display_name": "Python 3 (ipykernel)",
      "language": "python",
      "name": "python3"
    },
    "language_info": {
      "codemirror_mode": {
        "name": "ipython",
        "version": 3
      },
      "file_extension": ".py",
      "mimetype": "text/x-python",
      "name": "python",
      "nbconvert_exporter": "python",
      "pygments_lexer": "ipython3",
      "version": "3.9.7"
    },
    "colab": {
      "name": "Data Types in Python.ipynb",
      "provenance": [],
      "include_colab_link": true
    }
  },
  "nbformat": 4,
  "nbformat_minor": 5
}